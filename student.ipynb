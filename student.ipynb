{
 "cells": [
  {
   "cell_type": "markdown",
   "metadata": {},
   "source": []
  },
  {
   "cell_type": "markdown",
   "metadata": {},
   "source": [
    "# KING COUNTY REAL ESTATE ANALYSIS\n",
    "\n",
    "Please fill out:\n",
    "* Student name: Ian Musau, Mathew Karani, Jacinta Chepkemoi, Christine Malinga and Tabitha Berum. GROUP 2\n",
    "* Student pace: Full time, Hybrid\n",
    "* Scheduled project review date/time: 02/05/2024\n",
    "* Instructor name: Nikita Njoroge\n",
    "* Blog post URL:\n"
   ]
  },
  {
   "cell_type": "markdown",
   "metadata": {},
   "source": [
    "## Overview"
   ]
  },
  {
   "cell_type": "markdown",
   "metadata": {},
   "source": [
    "\n",
    "The real estate sector encompasses a diverse range of activities involving the acquisition, development, management, and transaction of properties, including residential, commercial, and investment real estate. The urban real estate investment business model is undergoing a fundamental overhaul attributed to digitization and a growing market for smart and environmentally demanding buildings.\n",
    "Data analysis tools can be used to extract valuable information for important decision-making such as house price predictions."
   ]
  },
  {
   "cell_type": "markdown",
   "metadata": {},
   "source": [
    " ## Business Undersatnding"
   ]
  },
  {
   "cell_type": "markdown",
   "metadata": {},
   "source": [
    "\n",
    "\n",
    "A client has a property in King County, WA that they are looking to sell. Having no prior knowledge or experience with the real estate industry, he has chosen to approach our agency so as not miss out on the chance of maximizing their profit potential. The main concern is the potential renovation to focus on that would have the least effect in production price and still increase property value.\n",
    "Data being analyzed is housing data from King County, WA in order to identify what opportunities there are to increase the sales price of the home, and by how much.\n",
    "\n",
    "This analysis will focus on the following factors that majorly affect the real estate industry to achieve the client's request:\n",
    "i) Market Trends: This help real estate agents, investors, and other stakeholders make well-informed decisions about the purchase, sale, and investment strategies of real estate, the dataset provides insights into pricing dynamics, market trends, and property features.\n",
    "ii) Customer Preferences: Understanding of consumer preferences and market demand through analysis of bedroom and bathroom numbers, property condition, view ratings makes targeted markeing and property customization easier and more scalable so as to suit all their clients' expectations.\n",
    "iii) Investment Opportunities: By analyzing variables including property size, location, condition, and market trends, investors in real estate can find properties that are cheap, evaluate possible returns, and optimize their investment portfolios.\n",
    "iv) Competitive Analysis: Real estate agents can benchmark against rivals, spot market gaps, and more by comparing property prices, sizes, amenities, and location features.\n",
    "and set themselves out from the competition to obtain a market advantage."
   ]
  },
  {
   "cell_type": "markdown",
   "metadata": {},
   "source": [
    "## Data Understanding"
   ]
  },
  {
   "cell_type": "markdown",
   "metadata": {},
   "source": [
    "The dataset \"house_data\" contains information about real estate properties, such as property IDs, price ranges, dates of sales, number of bedrooms and bathrooms, living space and lot sizes, floor counts, waterfront access, view ratings, property condition and grade, years of construction and renovation, geographic coordinates, and information about competitive neighborhoods.\n",
    "\n",
    "Gaining an understanding of the differences included in each characteristic and how they are distributed is essential for doing important analyses, such as identifying the factors influencing property values, assessing neighborhood characteristics, and predicting market trends. Furthermore, it will be crucial to address data quality issues like missing values, outliers, and inconsistent data types in order to ensure the accuracy and reliability of any studies or models based on this dataset."
   ]
  },
  {
   "cell_type": "code",
   "execution_count": 59,
   "metadata": {},
   "outputs": [],
   "source": [
    "# import relevant libraries\n",
    "import pandas as pd\n",
    "import numpy as np\n",
    "import matplotlib.pyplot as plt\n",
    "import seaborn as sns\n",
    "\n"
   ]
  },
  {
   "cell_type": "code",
   "execution_count": 60,
   "metadata": {},
   "outputs": [],
   "source": [
    "\n",
    "\n",
    "class DataSourcing:\n",
    "  def __init__(self,dataframe):\n",
    "    self.original = dataframe\n",
    "    self.dataframe = dataframe\n",
    "  \n",
    "  def give_info(self):\n",
    "    message =  f\"\"\"\n",
    "    ----------------------------------------------------------------------->\n",
    "    DESCRIPTION OF THE DATAFRAME IN QUESTION:\n",
    "    ----------------------------------------------------------------------->\n",
    "    \n",
    "    Dataframe information => {self.dataframe.info()}\n",
    "    ------------------------------------------------------------------------------------------------------------------------->\n",
    "    \n",
    "    Dataframe shape => {self.dataframe.shape[0]} rows, {self.dataframe.shape[1]} columns\n",
    "    ------------------------------------------------------------------------------------------------------------------------->    \n",
    "    \n",
    "    There are {len(self.dataframe.columns)} columns, namely: {self.dataframe.columns}.  \n",
    "    ------------------------------------------------------------------------------------------------------------------------->\n",
    "        \n",
    "    The first 5 records in the dataframe are seen here:\n",
    "    ------------------------------------------------------------------------------------------------------------------------->\n",
    "    {self.dataframe.head()}\n",
    "    ------------------------------------------------------------------------------------------------------------------------->\n",
    "       \n",
    "    The last 5 records in the self.dataframe are as follows: \n",
    "    ------------------------------------------------------------------------------------------------------------------------->\n",
    "    {self.dataframe.tail()}\n",
    "    ------------------------------------------------------------------------------------------------------------------------->\n",
    "    \n",
    "    The descriptive statistics of the dataframe (mean,median, max, min, std) are as follows:\n",
    "    ------------------------------------------------------------------------------------------------------------------------->\n",
    "    {self.dataframe.describe()}\n",
    "    ------------------------------------------------------------------------------------------------------------------------->\n",
    "    \"\"\"\n",
    "    print (message)\n",
    "  \n",
    "  def null_count(self):\n",
    "    return self.dataframe.isnull().sum()\n",
    "  \n",
    "  def unique_count(self):\n",
    "    return self.dataframe.nunique()\n",
    "  \n",
    "  def unique_per_column(self):\n",
    "    print(\"<----- UNIQUE VALUES IN EACH COLUMN ----->\")\n",
    "    for col in self.dataframe.columns:\n",
    "      print(f\"{col} ({len(self.dataframe[col].unique())} unique)\\n {sorted(self.dataframe[col].unique())}\")\n",
    "      print()\n",
    "    print(\"<----- END OF UNIQUE VALUES IN EACH COLUMN ----->\")\n",
    "    return\n",
    "  \n",
    "  \n",
    " \n",
    " \n",
    "\n",
    "\n"
   ]
  },
  {
   "cell_type": "markdown",
   "metadata": {},
   "source": [
    "Load the CSV dataset"
   ]
  },
  {
   "cell_type": "code",
   "execution_count": 61,
   "metadata": {},
   "outputs": [],
   "source": [
    "# Call the load_data() function to load the data\n",
    "self = pd.read_csv('data\\kc_house_data.csv')\n"
   ]
  },
  {
   "cell_type": "markdown",
   "metadata": {},
   "source": [
    "Now we can start the data understanding and pass the dataframe to our DataSourcing class"
   ]
  },
  {
   "cell_type": "code",
   "execution_count": 62,
   "metadata": {},
   "outputs": [
    {
     "name": "stdout",
     "output_type": "stream",
     "text": [
      "<class 'pandas.core.frame.DataFrame'>\n",
      "RangeIndex: 21597 entries, 0 to 21596\n",
      "Data columns (total 21 columns):\n",
      " #   Column         Non-Null Count  Dtype  \n",
      "---  ------         --------------  -----  \n",
      " 0   id             21597 non-null  int64  \n",
      " 1   date           21597 non-null  object \n",
      " 2   price          21597 non-null  float64\n",
      " 3   bedrooms       21597 non-null  int64  \n",
      " 4   bathrooms      21597 non-null  float64\n",
      " 5   sqft_living    21597 non-null  int64  \n",
      " 6   sqft_lot       21597 non-null  int64  \n",
      " 7   floors         21597 non-null  float64\n",
      " 8   waterfront     19221 non-null  object \n",
      " 9   view           21534 non-null  object \n",
      " 10  condition      21597 non-null  object \n",
      " 11  grade          21597 non-null  object \n",
      " 12  sqft_above     21597 non-null  int64  \n",
      " 13  sqft_basement  21597 non-null  object \n",
      " 14  yr_built       21597 non-null  int64  \n",
      " 15  yr_renovated   17755 non-null  float64\n",
      " 16  zipcode        21597 non-null  int64  \n",
      " 17  lat            21597 non-null  float64\n",
      " 18  long           21597 non-null  float64\n",
      " 19  sqft_living15  21597 non-null  int64  \n",
      " 20  sqft_lot15     21597 non-null  int64  \n",
      "dtypes: float64(6), int64(9), object(6)\n",
      "memory usage: 3.5+ MB\n",
      "\n",
      "    ----------------------------------------------------------------------->\n",
      "    DESCRIPTION OF THE DATAFRAME IN QUESTION:\n",
      "    ----------------------------------------------------------------------->\n",
      "    \n",
      "    Dataframe information => None\n",
      "    ------------------------------------------------------------------------------------------------------------------------->\n",
      "    \n",
      "    Dataframe shape => 21597 rows, 21 columns\n",
      "    ------------------------------------------------------------------------------------------------------------------------->    \n",
      "    \n",
      "    There are 21 columns, namely: Index(['id', 'date', 'price', 'bedrooms', 'bathrooms', 'sqft_living',\n",
      "       'sqft_lot', 'floors', 'waterfront', 'view', 'condition', 'grade',\n",
      "       'sqft_above', 'sqft_basement', 'yr_built', 'yr_renovated', 'zipcode',\n",
      "       'lat', 'long', 'sqft_living15', 'sqft_lot15'],\n",
      "      dtype='object').  \n",
      "    ------------------------------------------------------------------------------------------------------------------------->\n",
      "        \n",
      "    The first 5 records in the dataframe are seen here:\n",
      "    ------------------------------------------------------------------------------------------------------------------------->\n",
      "               id        date     price  bedrooms  bathrooms  sqft_living  \\\n",
      "0  7129300520  10/13/2014  221900.0         3       1.00         1180   \n",
      "1  6414100192   12/9/2014  538000.0         3       2.25         2570   \n",
      "2  5631500400   2/25/2015  180000.0         2       1.00          770   \n",
      "3  2487200875   12/9/2014  604000.0         4       3.00         1960   \n",
      "4  1954400510   2/18/2015  510000.0         3       2.00         1680   \n",
      "\n",
      "   sqft_lot  floors waterfront  view  ...          grade sqft_above  \\\n",
      "0      5650     1.0        NaN  NONE  ...      7 Average       1180   \n",
      "1      7242     2.0         NO  NONE  ...      7 Average       2170   \n",
      "2     10000     1.0         NO  NONE  ...  6 Low Average        770   \n",
      "3      5000     1.0         NO  NONE  ...      7 Average       1050   \n",
      "4      8080     1.0         NO  NONE  ...         8 Good       1680   \n",
      "\n",
      "   sqft_basement yr_built  yr_renovated  zipcode      lat     long  \\\n",
      "0            0.0     1955           0.0    98178  47.5112 -122.257   \n",
      "1          400.0     1951        1991.0    98125  47.7210 -122.319   \n",
      "2            0.0     1933           NaN    98028  47.7379 -122.233   \n",
      "3          910.0     1965           0.0    98136  47.5208 -122.393   \n",
      "4            0.0     1987           0.0    98074  47.6168 -122.045   \n",
      "\n",
      "   sqft_living15  sqft_lot15  \n",
      "0           1340        5650  \n",
      "1           1690        7639  \n",
      "2           2720        8062  \n",
      "3           1360        5000  \n",
      "4           1800        7503  \n",
      "\n",
      "[5 rows x 21 columns]\n",
      "    ------------------------------------------------------------------------------------------------------------------------->\n",
      "       \n",
      "    The last 5 records in the self.dataframe are as follows: \n",
      "    ------------------------------------------------------------------------------------------------------------------------->\n",
      "                   id        date     price  bedrooms  bathrooms  sqft_living  \\\n",
      "21592   263000018   5/21/2014  360000.0         3       2.50         1530   \n",
      "21593  6600060120   2/23/2015  400000.0         4       2.50         2310   \n",
      "21594  1523300141   6/23/2014  402101.0         2       0.75         1020   \n",
      "21595   291310100   1/16/2015  400000.0         3       2.50         1600   \n",
      "21596  1523300157  10/15/2014  325000.0         2       0.75         1020   \n",
      "\n",
      "       sqft_lot  floors waterfront  view  ...      grade sqft_above  \\\n",
      "21592      1131     3.0         NO  NONE  ...     8 Good       1530   \n",
      "21593      5813     2.0         NO  NONE  ...     8 Good       2310   \n",
      "21594      1350     2.0         NO  NONE  ...  7 Average       1020   \n",
      "21595      2388     2.0        NaN  NONE  ...     8 Good       1600   \n",
      "21596      1076     2.0         NO  NONE  ...  7 Average       1020   \n",
      "\n",
      "       sqft_basement yr_built  yr_renovated  zipcode      lat     long  \\\n",
      "21592            0.0     2009           0.0    98103  47.6993 -122.346   \n",
      "21593            0.0     2014           0.0    98146  47.5107 -122.362   \n",
      "21594            0.0     2009           0.0    98144  47.5944 -122.299   \n",
      "21595            0.0     2004           0.0    98027  47.5345 -122.069   \n",
      "21596            0.0     2008           0.0    98144  47.5941 -122.299   \n",
      "\n",
      "       sqft_living15  sqft_lot15  \n",
      "21592           1530        1509  \n",
      "21593           1830        7200  \n",
      "21594           1020        2007  \n",
      "21595           1410        1287  \n",
      "21596           1020        1357  \n",
      "\n",
      "[5 rows x 21 columns]\n",
      "    ------------------------------------------------------------------------------------------------------------------------->\n",
      "    \n",
      "    The descriptive statistics of the dataframe (mean,median, max, min, std) are as follows:\n",
      "    ------------------------------------------------------------------------------------------------------------------------->\n",
      "                     id         price      bedrooms     bathrooms   sqft_living  \\\n",
      "count  2.159700e+04  2.159700e+04  21597.000000  21597.000000  21597.000000   \n",
      "mean   4.580474e+09  5.402966e+05      3.373200      2.115826   2080.321850   \n",
      "std    2.876736e+09  3.673681e+05      0.926299      0.768984    918.106125   \n",
      "min    1.000102e+06  7.800000e+04      1.000000      0.500000    370.000000   \n",
      "25%    2.123049e+09  3.220000e+05      3.000000      1.750000   1430.000000   \n",
      "50%    3.904930e+09  4.500000e+05      3.000000      2.250000   1910.000000   \n",
      "75%    7.308900e+09  6.450000e+05      4.000000      2.500000   2550.000000   \n",
      "max    9.900000e+09  7.700000e+06     33.000000      8.000000  13540.000000   \n",
      "\n",
      "           sqft_lot        floors    sqft_above      yr_built  yr_renovated  \\\n",
      "count  2.159700e+04  21597.000000  21597.000000  21597.000000  17755.000000   \n",
      "mean   1.509941e+04      1.494096   1788.596842   1970.999676     83.636778   \n",
      "std    4.141264e+04      0.539683    827.759761     29.375234    399.946414   \n",
      "min    5.200000e+02      1.000000    370.000000   1900.000000      0.000000   \n",
      "25%    5.040000e+03      1.000000   1190.000000   1951.000000      0.000000   \n",
      "50%    7.618000e+03      1.500000   1560.000000   1975.000000      0.000000   \n",
      "75%    1.068500e+04      2.000000   2210.000000   1997.000000      0.000000   \n",
      "max    1.651359e+06      3.500000   9410.000000   2015.000000   2015.000000   \n",
      "\n",
      "            zipcode           lat          long  sqft_living15     sqft_lot15  \n",
      "count  21597.000000  21597.000000  21597.000000   21597.000000   21597.000000  \n",
      "mean   98077.951845     47.560093   -122.213982    1986.620318   12758.283512  \n",
      "std       53.513072      0.138552      0.140724     685.230472   27274.441950  \n",
      "min    98001.000000     47.155900   -122.519000     399.000000     651.000000  \n",
      "25%    98033.000000     47.471100   -122.328000    1490.000000    5100.000000  \n",
      "50%    98065.000000     47.571800   -122.231000    1840.000000    7620.000000  \n",
      "75%    98118.000000     47.678000   -122.125000    2360.000000   10083.000000  \n",
      "max    98199.000000     47.777600   -121.315000    6210.000000  871200.000000  \n",
      "    ------------------------------------------------------------------------------------------------------------------------->\n",
      "    \n"
     ]
    }
   ],
   "source": [
    "house_data = DataSourcing(dataframe=self)\n",
    "house_data.give_info()"
   ]
  },
  {
   "cell_type": "markdown",
   "metadata": {},
   "source": [
    "The insights derived from the give_info() method provide essential details about the dataset, contributing to a comprehensive understanding:\n",
    "\n",
    "This data set has 21 columns namely: \n",
    "id, date, price, bedrooms, bathrooms, sqft_living, sqft_lot, floors, waterfront, view, condition, grade, sqft_above, sqft_basement, yr_built, yr_renovated, zipcode, lat, long, sqft_living15, sqft_lot15.\n",
    "\n",
    "Missing Values:\n",
    "waterfront, view, and yr_renovated columns have missing values. This can be seen in the count row of the descriptive statistics section.\n",
    "\n",
    "Potential Data Quality Issues:\n",
    "The bedrooms column has a maximum value of 33, which seems unusually high and might be an error or outlier.\n",
    "The bathrooms column has a maximum value of 8, which could also be considered high and should be examined for outliers.\n",
    "The yr_renovated column has a maximum value of 2015, which seems unusual as it's the same as the maximum value of the yr_built column. This suggests that some values in the yr_renovated column might represent the year built instead of renovation years.\n",
    "\n",
    "Inconsistent Data Types:\n",
    "Some columns, such as waterfront, view, condition, and grade, appear to have categorical data but are represented as objects (strings) instead of categorical data types.\n",
    "The date column is represented as an object (string) but should be converted to a datetime data type for easier manipulation and analysis.\n",
    "\n",
    "Potential Outliers:\n",
    "Outliers may exist in numerical columns such as price, bedrooms, bathrooms, sqft_living, sqft_lot, sqft_above, sqft_basement, yr_built, yr_renovated, lat, long, sqft_living15, and sqft_lot15. Visualizing the distributions of these columns can help identify outliers.\n",
    "\n",
    "Zipcode as Numeric:\n",
    "The zipcode column is currently represented as an integer, but it might be more appropriate to treat it as a categorical variable since it represents different geographic areas.\n",
    "\n",
    "Inconsistent Naming Conventions:\n",
    "Some column names are in snake_case format (sqft_living, sqft_lot) while others are in camelCase (sqftLiving15, sqftLot15). It's best to use a consistent naming convention throughout the dataset."
   ]
  },
  {
   "cell_type": "code",
   "execution_count": 63,
   "metadata": {},
   "outputs": [
    {
     "data": {
      "text/plain": [
       "id               21420\n",
       "date               372\n",
       "price             3622\n",
       "bedrooms            12\n",
       "bathrooms           29\n",
       "sqft_living       1034\n",
       "sqft_lot          9776\n",
       "floors               6\n",
       "waterfront           2\n",
       "view                 5\n",
       "condition            5\n",
       "grade               11\n",
       "sqft_above         942\n",
       "sqft_basement      304\n",
       "yr_built           116\n",
       "yr_renovated        70\n",
       "zipcode             70\n",
       "lat               5033\n",
       "long               751\n",
       "sqft_living15      777\n",
       "sqft_lot15        8682\n",
       "dtype: int64"
      ]
     },
     "execution_count": 63,
     "metadata": {},
     "output_type": "execute_result"
    }
   ],
   "source": [
    "# Check for unique data so as to avoid redundancy in our dataset\n",
    "data_sourcing.unique_count()"
   ]
  },
  {
   "cell_type": "markdown",
   "metadata": {},
   "source": [
    "Upon examining the data, it appears to be authentic and devoid of anomalies for several reasons:\n",
    "\n",
    "Variety in Property IDs: The dataset comprises 21,420 distinct IDs, each representing a unique property.\n",
    "Diverse Sale Dates: A total of 372 unique sale dates are recorded, reflecting the temporal spread of property transactions.\n",
    "Price Variation: With 3,622 unique price points, the dataset demonstrates a wide range of property prices.\n",
    "Bedroom and Bathroom Distribution: There are 12 distinct bedroom counts and 29 unique bathroom counts, indicating diverse property configurations.\n",
    "Living Space and Lot Sizes: The dataset encompasses 1,034 different living space sizes and 9,776 distinct lot sizes, showcasing the variability in property dimensions.\n",
    "Floor Counts: Properties are characterized by 6 unique floor counts, illustrating differences in architectural design.\n",
    "Waterfront Access: The \"waterfront\" column exhibits 2 unique values, indicating the presence or absence of waterfront access for properties.\n",
    "View Ratings: Properties are rated on 5 unique view levels, reflecting varying scenic qualities.\n",
    "Condition and Grade: The dataset includes 5 distinct property conditions and 11 unique grade categories, offering insights into property quality.\n",
    "Basement and Above-Ground Area: Property basements and above-ground areas are characterized by 304 and 942 unique size values, respectively.\n",
    "Construction and Renovation Years: There are 116 unique construction years and 70 distinct renovation years, providing historical context for properties.\n",
    "Geographical Distribution: Properties are located in 70 unique zip codes, with 5,033 distinct latitude and 751 longitude values, showcasing geographical diversity.\n",
    "Neighborhood Comparison: The dataset features 777 different living space sizes and 8,682 lot sizes for the 15 nearest neighbors, enabling neighborhood-specific analyses.\n",
    "\n",
    "The dataset exhibits substantial diversity across various property attributes, including size, location, condition, and price. These unique counts offer valuable insights into the dataset's composition, facilitating informed analyses and decision-making processes within the real estate domain."
   ]
  },
  {
   "cell_type": "markdown",
   "metadata": {},
   "source": []
  }
 ],
 "metadata": {
  "kernelspec": {
   "display_name": "Python 3",
   "language": "python",
   "name": "python3"
  },
  "language_info": {
   "codemirror_mode": {
    "name": "ipython",
    "version": 3
   },
   "file_extension": ".py",
   "mimetype": "text/x-python",
   "name": "python",
   "nbconvert_exporter": "python",
   "pygments_lexer": "ipython3",
   "version": "3.8.5"
  }
 },
 "nbformat": 4,
 "nbformat_minor": 2
}
